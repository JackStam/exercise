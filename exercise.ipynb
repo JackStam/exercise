{
 "cells": [
  {
   "cell_type": "code",
   "execution_count": 1,
   "metadata": {},
   "outputs": [],
   "source": [
    "import json\n",
    "import requests\n",
    "#import Flask"
   ]
  },
  {
   "cell_type": "code",
   "execution_count": 2,
   "metadata": {},
   "outputs": [],
   "source": [
    "def api(endpoint):\n",
    "    response = requests.get(url = endpoint)\n",
    "    \n",
    "    try:\n",
    "        response = requests.get(endpoint, timeout=10)\n",
    "        response.raise_for_status()\n",
    "    # Code here will only run if the request is successful\n",
    "    except requests.exceptions.HTTPError as errh:\n",
    "        print(errh)\n",
    "    except requests.exceptions.ConnectionError as errc:\n",
    "        print(errc)\n",
    "    except requests.exceptions.Timeout as errt:\n",
    "        print(errt)\n",
    "    except requests.exceptions.RequestException as err:\n",
    "        print(err)\n",
    "    data = {'api_option':'paste',\n",
    "            'api_paste_code': main(),\n",
    "            'api_paste_format':'python'}\n",
    "    post = response.post(url = endpoint, data = data)\n",
    "\n",
    "    return response\n",
    "    "
   ]
  },
  {
   "cell_type": "code",
   "execution_count": 3,
   "metadata": {},
   "outputs": [],
   "source": [
    "data_json= '''{\n",
    "  \"load\": 480,\n",
    "  \"fuels\":\n",
    "  {\n",
    "    \"gas(euro/MWh)\": 13.4,\n",
    "    \"kerosine(euro/MWh)\": 50.8,\n",
    "    \"co2(euro/ton)\": 20,\n",
    "    \"wind(%)\": 60\n",
    "  },\n",
    "  \"powerplants\": [\n",
    "    {\n",
    "      \"name\": \"gasfiredbig1\",\n",
    "      \"type\": \"gasfired\",\n",
    "      \"efficiency\": 0.53,\n",
    "      \"pmin\": 100,\n",
    "      \"pmax\": 460\n",
    "    },\n",
    "    {\n",
    "      \"name\": \"gasfiredbig2\",\n",
    "      \"type\": \"gasfired\",\n",
    "      \"efficiency\": 0.53,\n",
    "      \"pmin\": 100,\n",
    "      \"pmax\": 460\n",
    "    },\n",
    "    {\n",
    "      \"name\": \"gasfiredsomewhatsmaller\",\n",
    "      \"type\": \"gasfired\",\n",
    "      \"efficiency\": 0.37,\n",
    "      \"pmin\": 40,\n",
    "      \"pmax\": 210\n",
    "    },\n",
    "    {\n",
    "      \"name\": \"tj1\",\n",
    "      \"type\": \"turbojet\",\n",
    "      \"efficiency\": 0.3,\n",
    "      \"pmin\": 0,\n",
    "      \"pmax\": 16\n",
    "    },\n",
    "    {\n",
    "      \"name\": \"windpark1\",\n",
    "      \"type\": \"windturbine\",\n",
    "      \"efficiency\": 1,\n",
    "      \"pmin\": 0,\n",
    "      \"pmax\": 150\n",
    "    },\n",
    "    {\n",
    "      \"name\": \"windpark2\",\n",
    "      \"type\": \"windturbine\",\n",
    "      \"efficiency\": 1,\n",
    "      \"pmin\": 0,\n",
    "      \"pmax\": 36\n",
    "    }\n",
    "  ]\n",
    "}'''"
   ]
  },
  {
   "cell_type": "markdown",
   "metadata": {},
   "source": [
    "EQUATIONS\n",
    "-----------\n",
    "1. load = min_cost(energy_production(i))\n",
    "\n",
    "Constraints\n",
    "-----------\n",
    "\n",
    "2a. wind: wind %  (X) pmax(i)]\n",
    "2b. fuel: efficiency (X) powerplant(i) (X) fuel_cost\n",
    "2c. pmin <= powerplant_production => pmax\n",
    "2d. cost/pp = efficiency (X) powerplant_production (X) fuel_cost\n"
   ]
  },
  {
   "cell_type": "code",
   "execution_count": 4,
   "metadata": {},
   "outputs": [],
   "source": [
    "data = json.loads(data_json)\n"
   ]
  },
  {
   "cell_type": "code",
   "execution_count": 5,
   "metadata": {},
   "outputs": [],
   "source": [
    "#Extract prices\n",
    "def prices():\n",
    "    for i in data['fuels']:\n",
    "        if 'gas' in i:\n",
    "            gas_price = data['fuels'][i]\n",
    "        elif 'kero' in i:\n",
    "            kero_price = data['fuels'][i]\n",
    "        elif 'co' in i:\n",
    "            co2 = data['fuels'][i]\n",
    "        elif 'wind' in i:\n",
    "            wind = data['fuels'][i]\n",
    "    return gas_price, kero_price, co2, wind\n"
   ]
  },
  {
   "cell_type": "code",
   "execution_count": 6,
   "metadata": {
    "scrolled": true
   },
   "outputs": [],
   "source": [
    "def energy_cost(gp, kp):\n",
    "    #this function calculates the cost for 1MW per plant\n",
    "    avg_cost = {}\n",
    "    sort_avg_cost = []\n",
    "\n",
    "    for i in data['powerplants']:\n",
    "        if 'jet' in i['type']:\n",
    "            avg_cost[i['name']] =  round((1 / float(i['efficiency'])) * kp,1) \n",
    "\n",
    "    for i in data['powerplants']:\n",
    "        if 'gas' in i['type']:\n",
    "            avg_cost[i['name']] =  round((1 / float(i['efficiency'])) * gp, 1) \n",
    "\n",
    "\n",
    "    sort_avg_cost = [(k,v) for k, v in avg_cost.items()]\n",
    "    sort_avg_cost.sort(key= lambda x: x[1])\n",
    "    return sort_avg_cost, avg_cost\n",
    "#sort_avg_cost, avg_cost = energy_cost()"
   ]
  },
  {
   "cell_type": "code",
   "execution_count": 7,
   "metadata": {},
   "outputs": [
    {
     "name": "stdout",
     "output_type": "stream",
     "text": [
      "368.4 [{'name': 'windpark1', 'p': 90.0}, {'name': 'windpark2', 'p': 21.6}]\n"
     ]
    }
   ],
   "source": [
    "def wind_energy():\n",
    "    wind_sol = []\n",
    "    #set vars for calcs\n",
    "    load = data['load']\n",
    "    remain_load = load\n",
    "    curr_load = 0 \n",
    "    prod_load = 0\n",
    "    wind_eff = data['fuels'].get('wind(%)') / 100  #max efficiency of wind_turb\n",
    "    for i in data['powerplants']:\n",
    "            #take all the free energy from wind\n",
    "            if i['efficiency'] == 1:\n",
    "                #check if remain_load = 0\n",
    "                if remain_load != 0:\n",
    "                    #check if the remain_load > wind_turb\n",
    "                    if remain_load > i['pmax'] * wind_eff:\n",
    "                        #calculate the value of the wind_turb\n",
    "                        curr_load = round(float(i['pmax'] * wind_eff), 1)\n",
    "                        remain_load -= curr_load\n",
    "                        prod_load += curr_load\n",
    "                        diction= {}\n",
    "                        diction['name'] = i['name']\n",
    "                        diction['p'] = curr_load\n",
    "                        wind_sol.append(diction)\n",
    "                    elif remain_load < i['pmax'] * wind_eff:\n",
    "                        curr_load = remain_load\n",
    "                        remain_load -= curr_load\n",
    "                        diction= {}\n",
    "                        diction['name'] = i['name']\n",
    "                        diction['p'] = curr_load\n",
    "                        wind_sol.append(diction)\n",
    "    return remain_load, wind_sol\n",
    "wind_list, remain_l = wind_energy()\n",
    "print(wind_list, remain_l)"
   ]
  },
  {
   "cell_type": "code",
   "execution_count": 8,
   "metadata": {},
   "outputs": [],
   "source": [
    "def final(remain_load, solution, sort_avg_cost):\n",
    "    #use wind function: calculate remaining of free energy and create solution dict\n",
    "    #remain_load, solution = wind_energy()\n",
    "    #double loop to match the elements of sorted plants with the min max values\n",
    "    for i in sort_avg_cost:\n",
    "        #initiate dict with 0 values\n",
    "        diction = {}\n",
    "        diction['name'] = i[0]\n",
    "        diction['p'] = 0\n",
    "        solution.append(diction)\n",
    "\n",
    "        for y in range(len(data['powerplants'])):\n",
    "            if i[0] in data['powerplants'][y].values():\n",
    "\n",
    "                #check if remain_load = 0\n",
    "                if remain_load == 0:\n",
    "                    break\n",
    "\n",
    "                #check if the remaining load is < pmax of the sorted element\n",
    "                elif remain_load < data['powerplants'][y]['pmax']:\n",
    "                #remain_load can be produced by this plant\n",
    "                    if remain_load > data['powerplants'][y]['pmin']:\n",
    "                        curr_load = remain_load\n",
    "                        remain_load -= curr_load\n",
    "                        diction = {}\n",
    "                        diction['name'] = i[0]\n",
    "                        diction['p'] = curr_load\n",
    "                        solution.append(diction)\n",
    "                        break\n",
    "                #remain_load > capacity of plant       \n",
    "                elif remain_load > data['powerplants'][y]['pmax']:\n",
    "                    #min capacity is satisfied\n",
    "                    if remain_load > data['powerplants'][y]['pmin']: \n",
    "                        curr_load = data['powerplants'][y]['pmax']\n",
    "                        diction = {}\n",
    "                        diction['name'] = i[0]\n",
    "                        diction['p'] = data['powerplants'][y]['pmax']\n",
    "                        solution.append(diction)\n",
    "                        remain_load -= curr_load\n",
    "                \n",
    "\n",
    "    return solution       \n"
   ]
  },
  {
   "cell_type": "code",
   "execution_count": 9,
   "metadata": {},
   "outputs": [
    {
     "data": {
      "text/plain": [
       "'[{\"name\": \"windpark1\", \"p\": 90.0}, {\"name\": \"windpark2\", \"p\": 21.6}, {\"name\": \"gasfiredbig1\", \"p\": 0}, {\"name\": \"gasfiredbig1\", \"p\": 368.4}, {\"name\": \"gasfiredbig2\", \"p\": 0}, {\"name\": \"gasfiredsomewhatsmaller\", \"p\": 0}, {\"name\": \"tj1\", \"p\": 0}]'"
      ]
     },
     "execution_count": 9,
     "metadata": {},
     "output_type": "execute_result"
    }
   ],
   "source": [
    "def main():\n",
    "    gas_price, kero_price, co2, wind = prices()\n",
    "    sort_avg_cost, avg_cost = energy_cost(gas_price, kero_price)\n",
    "    remain_load, solution= wind_energy()\n",
    "    final_json = json.dumps(final(remain_load, solution, sort_avg_cost))\n",
    "    return final_json\n",
    " #   return sort_avg_cost\n",
    "main()"
   ]
  }
 ],
 "metadata": {
  "kernelspec": {
   "display_name": "Python 3",
   "language": "python",
   "name": "python3"
  },
  "language_info": {
   "codemirror_mode": {
    "name": "ipython",
    "version": 3
   },
   "file_extension": ".py",
   "mimetype": "text/x-python",
   "name": "python",
   "nbconvert_exporter": "python",
   "pygments_lexer": "ipython3",
   "version": "3.8.5"
  }
 },
 "nbformat": 4,
 "nbformat_minor": 2
}
